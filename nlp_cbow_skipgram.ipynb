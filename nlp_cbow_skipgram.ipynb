{
 "cells": [
  {
   "cell_type": "code",
   "execution_count": 2,
   "id": "2387673c",
   "metadata": {},
   "outputs": [],
   "source": [
    "import numpy as np\n",
    "import gensim.downloader as api\n",
    "\n",
    "model=api.load('glove-wiki-gigaword-100')\n"
   ]
  },
  {
   "cell_type": "code",
   "execution_count": 22,
   "id": "5097b401",
   "metadata": {},
   "outputs": [
    {
     "data": {
      "text/plain": [
       "[('good', 0.7312451601028442),\n",
       " ('happy', 0.718189537525177),\n",
       " ('perfect', 0.7164174318313599),\n",
       " ('pretty', 0.7079885005950928),\n",
       " ('wonderful', 0.7028195261955261)]"
      ]
     },
     "execution_count": 22,
     "metadata": {},
     "output_type": "execute_result"
    }
   ],
   "source": [
    "model.most_similar(\"nice\",topn=5)"
   ]
  },
  {
   "cell_type": "code",
   "execution_count": 27,
   "id": "c34f4883",
   "metadata": {},
   "outputs": [
    {
     "data": {
      "text/plain": [
       "[('really', 0.8601710200309753)]"
      ]
     },
     "execution_count": 27,
     "metadata": {},
     "output_type": "execute_result"
    }
   ],
   "source": [
    "positive=['good', 'happy','perfect','pretty','wonderful']\n",
    "mean = np.sum([model.get_vector(word) for word in positive], axis=0)\n",
    "mean /= len(positive)\n",
    "word=[w for w in model.similar_by_vector(mean, topn=6) if w[0] not in positive]\n",
    "word"
   ]
  },
  {
   "cell_type": "code",
   "execution_count": null,
   "id": "71b66575",
   "metadata": {},
   "outputs": [],
   "source": []
  }
 ],
 "metadata": {
  "kernelspec": {
   "display_name": "Python 3",
   "language": "python",
   "name": "python3"
  },
  "language_info": {
   "codemirror_mode": {
    "name": "ipython",
    "version": 3
   },
   "file_extension": ".py",
   "mimetype": "text/x-python",
   "name": "python",
   "nbconvert_exporter": "python",
   "pygments_lexer": "ipython3",
   "version": "3.8.10"
  }
 },
 "nbformat": 4,
 "nbformat_minor": 5
}
